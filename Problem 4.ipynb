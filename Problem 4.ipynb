{
 "cells": [
  {
   "cell_type": "code",
   "execution_count": 2,
   "metadata": {},
   "outputs": [],
   "source": [
    "import numpy as np"
   ]
  },
  {
   "cell_type": "code",
   "execution_count": 3,
   "metadata": {},
   "outputs": [],
   "source": [
    "y = [np.array([2603.77028549, 2665.292078  , 2251.261876  , 2510.15775133]),\n",
    " np.array([1558.72110143, 1728.68097843, 1865.72775535, 1413.52330867,\n",
    "        1158.81381311, 1691.86795088]),\n",
    " np.array([1527.73185301, 1443.51857169, 1041.14137785])]"
   ]
  },
  {
   "cell_type": "code",
   "execution_count": 6,
   "metadata": {},
   "outputs": [],
   "source": [
    "for g in range(3):\n",
    "    y[g] = np.round(y[g]).astype(int)"
   ]
  },
  {
   "cell_type": "code",
   "execution_count": 7,
   "metadata": {},
   "outputs": [
    {
     "data": {
      "text/plain": [
       "[array([2604, 2665, 2251, 2510]),\n",
       " array([1559, 1729, 1866, 1414, 1159, 1692]),\n",
       " array([1528, 1444, 1041])]"
      ]
     },
     "execution_count": 7,
     "metadata": {},
     "output_type": "execute_result"
    }
   ],
   "source": [
    "y"
   ]
  },
  {
   "cell_type": "code",
   "execution_count": 10,
   "metadata": {},
   "outputs": [],
   "source": [
    "N = sum([len(yg) for yg in y])"
   ]
  },
  {
   "cell_type": "code",
   "execution_count": 11,
   "metadata": {
    "scrolled": true
   },
   "outputs": [
    {
     "data": {
      "text/plain": [
       "13"
      ]
     },
     "execution_count": 11,
     "metadata": {},
     "output_type": "execute_result"
    }
   ],
   "source": [
    "N"
   ]
  },
  {
   "cell_type": "code",
   "execution_count": 13,
   "metadata": {},
   "outputs": [],
   "source": [
    "G=3"
   ]
  },
  {
   "cell_type": "code",
   "execution_count": 25,
   "metadata": {},
   "outputs": [],
   "source": [
    "n = [len(yg) for yg in y]"
   ]
  },
  {
   "cell_type": "code",
   "execution_count": 26,
   "metadata": {},
   "outputs": [
    {
     "data": {
      "text/plain": [
       "[4, 6, 3]"
      ]
     },
     "execution_count": 26,
     "metadata": {},
     "output_type": "execute_result"
    }
   ],
   "source": [
    "n"
   ]
  },
  {
   "cell_type": "code",
   "execution_count": 35,
   "metadata": {},
   "outputs": [
    {
     "name": "stdout",
     "output_type": "stream",
     "text": [
      "[2507.5, 1569.8333333333333, 1337.6666666666667]\n"
     ]
    }
   ],
   "source": [
    "mubar = [np.mean(yg) for yg in y]\n",
    "print(mubar)"
   ]
  },
  {
   "cell_type": "code",
   "execution_count": 33,
   "metadata": {},
   "outputs": [
    {
     "name": "stdout",
     "output_type": "stream",
     "text": [
      "42816.96153846154\n"
     ]
    }
   ],
   "source": [
    "vbar = np.sum([np.sum((y[g] - mubar[g])**2) for g in range(G)]) / N\n",
    "print(vbar)"
   ]
  },
  {
   "cell_type": "markdown",
   "metadata": {},
   "source": [
    "### MAP+Laplace"
   ]
  },
  {
   "cell_type": "code",
   "execution_count": 31,
   "metadata": {},
   "outputs": [
    {
     "name": "stdout",
     "output_type": "stream",
     "text": [
      "37108.03333333333\n"
     ]
    }
   ],
   "source": [
    "sigma2_MAP = N * vbar / (N+2)\n",
    "print(sigma2_MAP)"
   ]
  },
  {
   "cell_type": "code",
   "execution_count": 29,
   "metadata": {},
   "outputs": [
    {
     "name": "stdout",
     "output_type": "stream",
     "text": [
      "[96.31722760406538, 78.64268702315698, 111.2175545696112]\n"
     ]
    }
   ],
   "source": [
    "stdL_mu = [np.sqrt(vbar / (N+2) * N / ng) for ng in n]\n",
    "print(stdL_mu)"
   ]
  },
  {
   "cell_type": "code",
   "execution_count": 34,
   "metadata": {},
   "outputs": [
    {
     "name": "stdout",
     "output_type": "stream",
     "text": [
      "13549.93794754686\n"
     ]
    }
   ],
   "source": [
    "stdL_sigma2 = np.sqrt(2/(N+2)) * N * vbar / (N+2)\n",
    "print(stdL_sigma2)"
   ]
  },
  {
   "cell_type": "markdown",
   "metadata": {},
   "source": [
    "### MCMC"
   ]
  },
  {
   "cell_type": "code",
   "execution_count": 36,
   "metadata": {},
   "outputs": [],
   "source": [
    "import pystan"
   ]
  },
  {
   "cell_type": "code",
   "execution_count": 38,
   "metadata": {},
   "outputs": [
    {
     "name": "stderr",
     "output_type": "stream",
     "text": [
      "INFO:pystan:COMPILING THE C++ CODE FOR MODEL anon_model_da50ab0c023b335e73b0fc17ba905872 NOW.\n"
     ]
    }
   ],
   "source": [
    "model_code = \"\"\"\n",
    "data {\n",
    "    int<lower=1> G;\n",
    "    int<lower=1> N;\n",
    "    int<lower=1, upper=G> label[N];  // group label\n",
    "    real y[N];\n",
    "}\n",
    "parameters {\n",
    "    real mu[G];\n",
    "    real<lower=0> sigma2;\n",
    "}\n",
    "model {\n",
    "    target += -log(sigma2);\n",
    "    for (j in 1:N){\n",
    "        target += normal_lpdf(y[j] | mu[label[j]], sqrt(sigma2));\n",
    "    }\n",
    "}\n",
    "\"\"\"\n",
    "model = pystan.StanModel(model_code=model_code)"
   ]
  },
  {
   "cell_type": "code",
   "execution_count": 54,
   "metadata": {},
   "outputs": [],
   "source": [
    "data = {\n",
    "    'G': G,\n",
    "    'N': N,\n",
    "    'y': np.concatenate(y) ,\n",
    "    'label': np.concatenate([[g+1] * n[g] for g in range(G)])\n",
    "}"
   ]
  },
  {
   "cell_type": "code",
   "execution_count": 55,
   "metadata": {},
   "outputs": [
    {
     "data": {
      "text/plain": [
       "{'G': 3,\n",
       " 'N': 13,\n",
       " 'y': array([2604, 2665, 2251, 2510, 1559, 1729, 1866, 1414, 1159, 1692, 1528,\n",
       "        1444, 1041]),\n",
       " 'label': array([1, 1, 1, 1, 2, 2, 2, 2, 2, 2, 3, 3, 3])}"
      ]
     },
     "execution_count": 55,
     "metadata": {},
     "output_type": "execute_result"
    }
   ],
   "source": [
    "data"
   ]
  },
  {
   "cell_type": "code",
   "execution_count": 56,
   "metadata": {},
   "outputs": [],
   "source": [
    "fit = model.sampling(data, seed=123456)"
   ]
  },
  {
   "cell_type": "code",
   "execution_count": 57,
   "metadata": {},
   "outputs": [],
   "source": [
    "samples = fit.extract()"
   ]
  },
  {
   "cell_type": "code",
   "execution_count": 63,
   "metadata": {},
   "outputs": [
    {
     "data": {
      "text/plain": [
       "array([2507.27700403, 1570.27989673, 1340.45050983])"
      ]
     },
     "execution_count": 63,
     "metadata": {},
     "output_type": "execute_result"
    }
   ],
   "source": [
    "np.mean(samples['mu'], axis=0)"
   ]
  },
  {
   "cell_type": "code",
   "execution_count": 64,
   "metadata": {},
   "outputs": [
    {
     "data": {
      "text/plain": [
       "array([2510.18135758, 1570.86572614, 1339.41578624])"
      ]
     },
     "execution_count": 64,
     "metadata": {},
     "output_type": "execute_result"
    }
   ],
   "source": [
    "np.median(samples['mu'], axis=0)"
   ]
  },
  {
   "cell_type": "code",
   "execution_count": 65,
   "metadata": {},
   "outputs": [
    {
     "data": {
      "text/plain": [
       "array([131.42099704, 107.04966321, 148.93665698])"
      ]
     },
     "execution_count": 65,
     "metadata": {},
     "output_type": "execute_result"
    }
   ],
   "source": [
    "np.std(samples['mu'], axis=0)"
   ]
  },
  {
   "cell_type": "code",
   "execution_count": 66,
   "metadata": {},
   "outputs": [
    {
     "data": {
      "text/plain": [
       "69487.9137985119"
      ]
     },
     "execution_count": 66,
     "metadata": {},
     "output_type": "execute_result"
    }
   ],
   "source": [
    "np.mean(samples['sigma2'])"
   ]
  },
  {
   "cell_type": "code",
   "execution_count": 68,
   "metadata": {},
   "outputs": [
    {
     "data": {
      "text/plain": [
       "59354.86193979092"
      ]
     },
     "execution_count": 68,
     "metadata": {},
     "output_type": "execute_result"
    }
   ],
   "source": [
    "np.median(samples['sigma2'])"
   ]
  },
  {
   "cell_type": "code",
   "execution_count": 67,
   "metadata": {},
   "outputs": [
    {
     "data": {
      "text/plain": [
       "40098.543439842506"
      ]
     },
     "execution_count": 67,
     "metadata": {},
     "output_type": "execute_result"
    }
   ],
   "source": [
    "np.std(samples['sigma2'])"
   ]
  },
  {
   "cell_type": "markdown",
   "metadata": {},
   "source": [
    "### Exact"
   ]
  },
  {
   "cell_type": "code",
   "execution_count": 71,
   "metadata": {},
   "outputs": [
    {
     "name": "stdout",
     "output_type": "stream",
     "text": [
      "[131.88779559 107.68593416 152.29090857]\n"
     ]
    }
   ],
   "source": [
    "std_mu = np.sqrt(vbar / (N-5) * N/np.array(n))\n",
    "print(std_mu)"
   ]
  },
  {
   "cell_type": "code",
   "execution_count": 72,
   "metadata": {},
   "outputs": [
    {
     "data": {
      "text/plain": [
       "[2507.5, 1569.8333333333333, 1337.6666666666667]"
      ]
     },
     "execution_count": 72,
     "metadata": {},
     "output_type": "execute_result"
    }
   ],
   "source": [
    "mubar"
   ]
  },
  {
   "cell_type": "code",
   "execution_count": 74,
   "metadata": {},
   "outputs": [
    {
     "name": "stdout",
     "output_type": "stream",
     "text": [
      "40170.62443893301\n"
     ]
    }
   ],
   "source": [
    "std_sigma2 = np.sqrt(2 / (N-7)) * N * vbar / (N-5)\n",
    "print(std_sigma2)"
   ]
  },
  {
   "cell_type": "code",
   "execution_count": 77,
   "metadata": {},
   "outputs": [
    {
     "name": "stdout",
     "output_type": "stream",
     "text": [
      "69577.5625\n"
     ]
    }
   ],
   "source": [
    "mean_sigma2 = N*vbar / (N-5)\n",
    "print(mean_sigma2)"
   ]
  },
  {
   "cell_type": "code",
   "execution_count": 78,
   "metadata": {},
   "outputs": [
    {
     "name": "stdout",
     "output_type": "stream",
     "text": [
      "42816.96153846154\n"
     ]
    }
   ],
   "source": [
    "mode_sigma2 = N*vbar / (N)\n",
    "print(mode_sigma2)"
   ]
  },
  {
   "cell_type": "code",
   "execution_count": null,
   "metadata": {},
   "outputs": [],
   "source": []
  }
 ],
 "metadata": {
  "kernelspec": {
   "display_name": "Python 3",
   "language": "python",
   "name": "python3"
  },
  "language_info": {
   "codemirror_mode": {
    "name": "ipython",
    "version": 3
   },
   "file_extension": ".py",
   "mimetype": "text/x-python",
   "name": "python",
   "nbconvert_exporter": "python",
   "pygments_lexer": "ipython3",
   "version": "3.6.5"
  }
 },
 "nbformat": 4,
 "nbformat_minor": 2
}

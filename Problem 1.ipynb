{
 "cells": [
  {
   "cell_type": "code",
   "execution_count": 1,
   "metadata": {},
   "outputs": [],
   "source": [
    "import numpy as np"
   ]
  },
  {
   "cell_type": "code",
   "execution_count": 2,
   "metadata": {},
   "outputs": [],
   "source": [
    "Y = np.array([3.23, 5.38, 6.54, 7.99, 9.86, 11.35, 11.98])\n",
    "X = np.array([1,2,3,4,5,6,7])"
   ]
  },
  {
   "cell_type": "code",
   "execution_count": 3,
   "metadata": {},
   "outputs": [],
   "source": [
    "N = len(Y)\n",
    "x = np.mean(X)\n",
    "y = np.mean(Y)\n",
    "xy = np.mean(X*Y)\n",
    "x2 = np.mean(X*X)\n",
    "y2 = np.mean(Y*Y)"
   ]
  },
  {
   "cell_type": "code",
   "execution_count": 4,
   "metadata": {},
   "outputs": [
    {
     "data": {
      "text/plain": [
       "(7, 4.0, 8.047142857142857)"
      ]
     },
     "execution_count": 4,
     "metadata": {},
     "output_type": "execute_result"
    }
   ],
   "source": [
    "N, x, y"
   ]
  },
  {
   "cell_type": "code",
   "execution_count": 5,
   "metadata": {},
   "outputs": [
    {
     "data": {
      "text/plain": [
       "(20.0, 38.11857142857143, 73.65021428571428)"
      ]
     },
     "execution_count": 5,
     "metadata": {},
     "output_type": "execute_result"
    }
   ],
   "source": [
    "x2, xy, y2"
   ]
  },
  {
   "cell_type": "markdown",
   "metadata": {},
   "source": [
    "### MAP + Laplace"
   ]
  },
  {
   "cell_type": "code",
   "execution_count": 6,
   "metadata": {},
   "outputs": [],
   "source": [
    "a_map = (xy - x*y) / (x2 - x**2)\n",
    "c_map = y - x * a_map\n",
    "sigma2_map = 1/(N+2) * np.sum((Y - (a_map * X + c_map))**2)"
   ]
  },
  {
   "cell_type": "code",
   "execution_count": 7,
   "metadata": {},
   "outputs": [
    {
     "data": {
      "text/plain": [
       "(1.4825, 2.1171428571428574, 0.07970753968253955)"
      ]
     },
     "execution_count": 7,
     "metadata": {},
     "output_type": "execute_result"
    }
   ],
   "source": [
    "a_map, c_map, sigma2_map"
   ]
  },
  {
   "cell_type": "code",
   "execution_count": 8,
   "metadata": {},
   "outputs": [],
   "source": [
    "stdL_a = np.sqrt(sigma2_map / N / (x2 - x**2))\n",
    "stdL_c = np.sqrt(sigma2_map / N * x2 / (x2 - x**2))\n",
    "covL_ac = - sigma2_map / N * x / (x2 - x**2)\n",
    "corrL_ac = covL_ac / np.sqrt(stdL_a * stdL_c)\n",
    "stdL_sigma2 = np.sqrt(2/(N+2)) * sigma2_map"
   ]
  },
  {
   "cell_type": "code",
   "execution_count": 9,
   "metadata": {},
   "outputs": [
    {
     "data": {
      "text/plain": [
       "(0.053354454788752025,\n",
       " 0.23860837562017742,\n",
       " -0.10091905583880308,\n",
       " 0.037574494547479693)"
      ]
     },
     "execution_count": 9,
     "metadata": {},
     "output_type": "execute_result"
    }
   ],
   "source": [
    "stdL_a, stdL_c, corrL_ac, stdL_sigma2"
   ]
  },
  {
   "cell_type": "markdown",
   "metadata": {},
   "source": [
    "### MCMC"
   ]
  },
  {
   "cell_type": "code",
   "execution_count": 10,
   "metadata": {},
   "outputs": [],
   "source": [
    "import pystan"
   ]
  },
  {
   "cell_type": "code",
   "execution_count": 11,
   "metadata": {},
   "outputs": [
    {
     "name": "stderr",
     "output_type": "stream",
     "text": [
      "INFO:pystan:COMPILING THE C++ CODE FOR MODEL anon_model_2ec1c47dd025e7a849c6af7080b56fd9 NOW.\n"
     ]
    }
   ],
   "source": [
    "model_code = \"\"\"\n",
    "data {\n",
    "    int<lower=1> N;\n",
    "    real x[N];\n",
    "    real y[N];\n",
    "}\n",
    "parameters {\n",
    "    real a;\n",
    "    real c;\n",
    "    real<lower=0> sigma2;\n",
    "}\n",
    "model {\n",
    "    target += -log(sigma2);\n",
    "    for (i in 1:N){\n",
    "        target += normal_lpdf(y[i] | a * x[i] + c, sqrt(sigma2));\n",
    "    }\n",
    "}\n",
    "\"\"\"\n",
    "model = pystan.StanModel(model_code=model_code)"
   ]
  },
  {
   "cell_type": "code",
   "execution_count": 12,
   "metadata": {},
   "outputs": [],
   "source": [
    "data = {'N': N, 'x': X, 'y': Y}"
   ]
  },
  {
   "cell_type": "code",
   "execution_count": 13,
   "metadata": {},
   "outputs": [
    {
     "name": "stderr",
     "output_type": "stream",
     "text": [
      "/usr/local/lib/python3.6/site-packages/pystan/misc.py:399: FutureWarning: Conversion of the second argument of issubdtype from `float` to `np.floating` is deprecated. In future, it will be treated as `np.float64 == np.dtype(float).type`.\n",
      "  elif np.issubdtype(np.asarray(v).dtype, float):\n"
     ]
    }
   ],
   "source": [
    "fit = model.sampling(data=data, seed=123456, iter=100_000, thin=10)"
   ]
  },
  {
   "cell_type": "code",
   "execution_count": 14,
   "metadata": {},
   "outputs": [],
   "source": [
    "samples = fit.extract()"
   ]
  },
  {
   "cell_type": "code",
   "execution_count": 15,
   "metadata": {},
   "outputs": [
    {
     "data": {
      "text/plain": [
       "(1.482332944393399, 1.4820993999002012)"
      ]
     },
     "execution_count": 15,
     "metadata": {},
     "output_type": "execute_result"
    }
   ],
   "source": [
    "np.mean(samples['a']), np.median(samples['a'])"
   ]
  },
  {
   "cell_type": "code",
   "execution_count": 16,
   "metadata": {},
   "outputs": [
    {
     "data": {
      "text/plain": [
       "(2.1194386202854605, 2.1201645898036947)"
      ]
     },
     "execution_count": 16,
     "metadata": {},
     "output_type": "execute_result"
    }
   ],
   "source": [
    "np.mean(samples['c']), np.median(samples['c'])"
   ]
  },
  {
   "cell_type": "code",
   "execution_count": 17,
   "metadata": {},
   "outputs": [
    {
     "data": {
      "text/plain": [
       "(0.23770765427961266, 0.16385130210599086)"
      ]
     },
     "execution_count": 17,
     "metadata": {},
     "output_type": "execute_result"
    }
   ],
   "source": [
    "np.mean(samples['sigma2']), np.median(samples['sigma2'])"
   ]
  },
  {
   "cell_type": "code",
   "execution_count": 18,
   "metadata": {},
   "outputs": [
    {
     "data": {
      "text/plain": [
       "(0.0920423924063783, 0.413014243221986, 0.28280074142328665)"
      ]
     },
     "execution_count": 18,
     "metadata": {},
     "output_type": "execute_result"
    }
   ],
   "source": [
    "np.std(samples['a']), np.std(samples['c']), np.std(samples['sigma2'])"
   ]
  },
  {
   "cell_type": "code",
   "execution_count": 19,
   "metadata": {},
   "outputs": [],
   "source": [
    "Cov = np.cov([samples[par] for par in ['a', 'c', 'sigma2']])"
   ]
  },
  {
   "cell_type": "code",
   "execution_count": 20,
   "metadata": {},
   "outputs": [
    {
     "data": {
      "text/plain": [
       "-0.8907918538161765"
      ]
     },
     "execution_count": 20,
     "metadata": {},
     "output_type": "execute_result"
    }
   ],
   "source": [
    "Cov[0,1] / np.sqrt(Cov[0,0] * Cov[1,1])"
   ]
  },
  {
   "cell_type": "code",
   "execution_count": 21,
   "metadata": {},
   "outputs": [],
   "source": [
    "inv_sqrt_std_diag = np.diag(np.diag(np.sqrt(1.0 / np.abs(Cov))))"
   ]
  },
  {
   "cell_type": "code",
   "execution_count": 22,
   "metadata": {},
   "outputs": [],
   "source": [
    "Corr = inv_sqrt_std_diag.dot(Cov).dot(inv_sqrt_std_diag)"
   ]
  },
  {
   "cell_type": "code",
   "execution_count": 23,
   "metadata": {},
   "outputs": [
    {
     "data": {
      "text/plain": [
       "array([[ 1.        , -0.89079185,  0.03771061],\n",
       "       [-0.89079185,  1.        , -0.03117509],\n",
       "       [ 0.03771061, -0.03117509,  1.        ]])"
      ]
     },
     "execution_count": 23,
     "metadata": {},
     "output_type": "execute_result"
    }
   ],
   "source": [
    "Corr"
   ]
  },
  {
   "cell_type": "markdown",
   "metadata": {},
   "source": [
    "### Exact"
   ]
  },
  {
   "cell_type": "code",
   "execution_count": 24,
   "metadata": {},
   "outputs": [],
   "source": [
    "Xmat = np.zeros([len(X), 2])\n",
    "Xmat[:,0] = X\n",
    "Xmat[:,1] = 1"
   ]
  },
  {
   "cell_type": "code",
   "execution_count": 25,
   "metadata": {},
   "outputs": [
    {
     "data": {
      "text/plain": [
       "array([[1., 1.],\n",
       "       [2., 1.],\n",
       "       [3., 1.],\n",
       "       [4., 1.],\n",
       "       [5., 1.],\n",
       "       [6., 1.],\n",
       "       [7., 1.]])"
      ]
     },
     "execution_count": 25,
     "metadata": {},
     "output_type": "execute_result"
    }
   ],
   "source": [
    "Xmat"
   ]
  },
  {
   "cell_type": "code",
   "execution_count": 26,
   "metadata": {},
   "outputs": [
    {
     "data": {
      "text/plain": [
       "array([ 3.23,  5.38,  6.54,  7.99,  9.86, 11.35, 11.98])"
      ]
     },
     "execution_count": 26,
     "metadata": {},
     "output_type": "execute_result"
    }
   ],
   "source": [
    "Y"
   ]
  },
  {
   "cell_type": "code",
   "execution_count": 27,
   "metadata": {},
   "outputs": [
    {
     "name": "stdout",
     "output_type": "stream",
     "text": [
      "[[ 0.25 -1.  ]\n",
      " [-1.    5.  ]]\n"
     ]
    }
   ],
   "source": [
    "Lambda = np.linalg.inv(Xmat.T.dot(Xmat) / N)\n",
    "print(Lambda)"
   ]
  },
  {
   "cell_type": "code",
   "execution_count": 28,
   "metadata": {},
   "outputs": [
    {
     "name": "stdout",
     "output_type": "stream",
     "text": [
      "[1.4825     2.11714286]\n"
     ]
    }
   ],
   "source": [
    "bbar = 1/N * Lambda.dot((Xmat.T).dot(Y))\n",
    "print(bbar)"
   ]
  },
  {
   "cell_type": "code",
   "execution_count": 29,
   "metadata": {},
   "outputs": [],
   "source": [
    "abar, cbar = bbar"
   ]
  },
  {
   "cell_type": "code",
   "execution_count": 30,
   "metadata": {},
   "outputs": [
    {
     "name": "stdout",
     "output_type": "stream",
     "text": [
      "0.10248112244897938\n"
     ]
    }
   ],
   "source": [
    "diff = (Y - Xmat.dot(bbar))\n",
    "vbar = 1/N * diff.T.dot(diff)\n",
    "print(vbar)"
   ]
  },
  {
   "cell_type": "code",
   "execution_count": 31,
   "metadata": {},
   "outputs": [],
   "source": [
    "K = 2"
   ]
  },
  {
   "cell_type": "code",
   "execution_count": 32,
   "metadata": {},
   "outputs": [
    {
     "data": {
      "text/plain": [
       "0.23912261904761856"
      ]
     },
     "execution_count": 32,
     "metadata": {},
     "output_type": "execute_result"
    }
   ],
   "source": [
    "N*vbar / (N - K - 2)"
   ]
  },
  {
   "cell_type": "code",
   "execution_count": 33,
   "metadata": {},
   "outputs": [
    {
     "data": {
      "text/plain": [
       "0.08967098214285696"
      ]
     },
     "execution_count": 33,
     "metadata": {},
     "output_type": "execute_result"
    }
   ],
   "source": [
    "N*vbar / (N - K + 3)"
   ]
  },
  {
   "cell_type": "code",
   "execution_count": 34,
   "metadata": {},
   "outputs": [
    {
     "name": "stdout",
     "output_type": "stream",
     "text": [
      "[[ 0.00854009 -0.03416037]\n",
      " [-0.03416037  0.17080187]]\n"
     ]
    }
   ],
   "source": [
    "varb = vbar / (N - K - 2) * Lambda\n",
    "print(varb)"
   ]
  },
  {
   "cell_type": "code",
   "execution_count": 35,
   "metadata": {},
   "outputs": [
    {
     "data": {
      "text/plain": [
       "0.3381704509273171"
      ]
     },
     "execution_count": 35,
     "metadata": {},
     "output_type": "execute_result"
    }
   ],
   "source": [
    "np.sqrt(2) * N *vbar / (N-K-2) / np.sqrt(N - K -4)"
   ]
  },
  {
   "cell_type": "code",
   "execution_count": 36,
   "metadata": {},
   "outputs": [
    {
     "data": {
      "text/plain": [
       "0.09241262650425508"
      ]
     },
     "execution_count": 36,
     "metadata": {},
     "output_type": "execute_result"
    }
   ],
   "source": [
    "np.sqrt(varb[0,0])"
   ]
  },
  {
   "cell_type": "code",
   "execution_count": 37,
   "metadata": {},
   "outputs": [
    {
     "data": {
      "text/plain": [
       "0.41328182968562627"
      ]
     },
     "execution_count": 37,
     "metadata": {},
     "output_type": "execute_result"
    }
   ],
   "source": [
    "np.sqrt(varb[1,1])"
   ]
  },
  {
   "cell_type": "code",
   "execution_count": 77,
   "metadata": {},
   "outputs": [
    {
     "data": {
      "text/plain": [
       "-0.8944271909999159"
      ]
     },
     "execution_count": 77,
     "metadata": {},
     "output_type": "execute_result"
    }
   ],
   "source": [
    "Lambda[0,1] / np.sqrt(Lambda[0,0] * Lambda[1,1])"
   ]
  },
  {
   "cell_type": "markdown",
   "metadata": {},
   "source": [
    "### Plot"
   ]
  },
  {
   "cell_type": "code",
   "execution_count": 39,
   "metadata": {},
   "outputs": [],
   "source": [
    "import matplotlib.pyplot as plt\n",
    "%matplotlib inline"
   ]
  },
  {
   "cell_type": "code",
   "execution_count": 52,
   "metadata": {},
   "outputs": [],
   "source": [
    "import numpy as np"
   ]
  },
  {
   "cell_type": "code",
   "execution_count": 62,
   "metadata": {},
   "outputs": [
    {
     "data": {
      "image/png": "[encoded data removed]",
      "text/plain": [
       "<Figure size 504x360 with 1 Axes>"
      ]
     },
     "metadata": {},
     "output_type": "display_data"
    }
   ],
   "source": [
    "lines = 200\n",
    "\n",
    "x_draw = np.linspace(-5,15, 10)\n",
    "\n",
    "plt.figure(figsize=(7,5))\n",
    "plt.plot(X, Y, 'k.', ms=7, label='data')\n",
    "\n",
    "selected_sample_idxs = np.random.choice(len(samples['a']), size=lines)\n",
    "selected_a = samples['a'][selected_sample_idxs]\n",
    "selected_c = samples['c'][selected_sample_idxs]\n",
    "for i in range(lines):\n",
    "    a = selected_a[i]\n",
    "    c = selected_c[i]\n",
    "    y_draw = x_draw * a + c\n",
    "    plt.plot(x_draw, y_draw, 'b-', alpha=0.02)\n",
    "\n",
    "plt.plot([], [], 'b-', label='MCMC samples')\n",
    "plt.xlim([-5,12])\n",
    "plt.ylim([-5,20])\n",
    "plt.show()"
   ]
  },
  {
   "cell_type": "code",
   "execution_count": 53,
   "metadata": {},
   "outputs": [
    {
     "data": {
      "text/plain": [
       "<function RandomState.choice>"
      ]
     },
     "execution_count": 53,
     "metadata": {},
     "output_type": "execute_result"
    }
   ],
   "source": [
    "np.random.choice"
   ]
  },
  {
   "cell_type": "code",
   "execution_count": 84,
   "metadata": {},
   "outputs": [],
   "source": [
    "from scipy.stats import t as tdist\n",
    "from scipy.stats import norm\n",
    "from scipy.stats import invgamma"
   ]
  },
  {
   "cell_type": "code",
   "execution_count": 114,
   "metadata": {},
   "outputs": [
    {
     "data": {
      "image/png": "[encoded data removed]",
      "text/plain": [
       "<Figure size 432x432 with 1 Axes>"
      ]
     },
     "metadata": {},
     "output_type": "display_data"
    }
   ],
   "source": [
    "plt.figure(figsize=(6,6))\n",
    "x = np.linspace(0, 3, 1000)\n",
    "plt.plot(x, tdist.pdf(x, df=N-K, loc=abar, scale=np.sqrt(varb[0,0] * (N-K-2) / (N-K))), \n",
    "         'k--', lw=1, label='exact (analytic)')\n",
    "plt.plot(x, norm.pdf(x, loc=abar, scale=stdL_a), \n",
    "         'r-', lw=1, label='MAP + Laplace (analytic)')\n",
    "plt.hist(samples['a'], \n",
    "         color='b', bins=150,\n",
    "         density=True, label='MCMC (STAN)', histtype='step')\n",
    "\n",
    "\n",
    "plt.xlabel('a')\n",
    "plt.ylabel('posterior density')\n",
    "plt.xlim([1,2])\n",
    "plt.legend()\n",
    "\n",
    "plt.savefig('./P1_a_posterior.pdf', bbox_inches='tight')\n",
    "plt.show()"
   ]
  },
  {
   "cell_type": "code",
   "execution_count": 113,
   "metadata": {},
   "outputs": [
    {
     "data": {
      "image/png": "[encoded data removed]",
      "text/plain": [
       "<Figure size 432x432 with 1 Axes>"
      ]
     },
     "metadata": {},
     "output_type": "display_data"
    }
   ],
   "source": [
    "plt.figure(figsize=(6,6))\n",
    "x = np.linspace(0, 6, 1000)\n",
    "plt.plot(x, tdist.pdf(x, df=N-K, loc=cbar, scale=np.sqrt(varb[1,1] * (N-K-2) / (N-K))), \n",
    "         'k--', lw=1, label='exact (analytic)')\n",
    "plt.plot(x, norm.pdf(x, loc=cbar, scale=stdL_c), \n",
    "         'r-', lw=1, label='MAP + Laplace (analytic)')\n",
    "plt.hist(samples['c'], \n",
    "         color='b', bins=150,\n",
    "         density=True, label='MCMC (STAN)', histtype='step')\n",
    "\n",
    "\n",
    "plt.xlabel('c')\n",
    "plt.ylabel('posterior density')\n",
    "plt.xlim([0,4])\n",
    "plt.legend()\n",
    "\n",
    "plt.savefig('./P1_c_posterior.pdf', bbox_inches='tight')\n",
    "plt.show()"
   ]
  },
  {
   "cell_type": "code",
   "execution_count": 112,
   "metadata": {},
   "outputs": [
    {
     "data": {
      "image/png": "[encoded data removed]",
      "text/plain": [
       "<Figure size 432x432 with 1 Axes>"
      ]
     },
     "metadata": {},
     "output_type": "display_data"
    }
   ],
   "source": [
    "plt.figure(figsize=(6,6))\n",
    "x = np.linspace(0, 1, 1000)\n",
    "plt.plot(x, invgamma.pdf(x, a=(N-K)/2, scale=N*vbar/2), \n",
    "         'k--', lw=1, label='exact (analytic)')\n",
    "plt.plot(x, norm.pdf(x, loc=sigma2_map, scale=stdL_sigma2), \n",
    "         'r-', lw=1, label='MAP + Laplace (analytic)')\n",
    "plt.hist(samples['sigma2'], \n",
    "         color='b', bins=np.linspace(0,1,50),\n",
    "         density=True, label='MCMC (STAN)', histtype='step')\n",
    "\n",
    "\n",
    "plt.xlabel('sigma^2')\n",
    "plt.ylabel('posterior density')\n",
    "plt.xlim([0,1])\n",
    "plt.legend()\n",
    "\n",
    "plt.savefig('./P1_sigma2_posterior.pdf', bbox_inches='tight')\n",
    "plt.show()"
   ]
  },
  {
   "cell_type": "code",
   "execution_count": 105,
   "metadata": {},
   "outputs": [],
   "source": [
    "from scipy.special import gamma\n",
    "\n",
    "def multivariate_t_distribution_pdf(x, mu, Sigma, df):\n",
    "    '''\n",
    "    Multivariate t-student density:\n",
    "    output:\n",
    "        the density of the given element\n",
    "    input:\n",
    "        x = parameter (d dimensional numpy array or scalar)\n",
    "        mu = mean (d dimensional numpy array or scalar)\n",
    "        Sigma = scale matrix (dxd numpy array)\n",
    "        df = degrees of freedom\n",
    "    '''\n",
    "    assert Sigma.shape[0] == Sigma.shape[1]\n",
    "    Sigma_inv = np.linalg.inv(Sigma)\n",
    "    K = Sigma.shape[0]\n",
    "    normalization = 1/ ( (np.pi * df)**(K/2) * np.sqrt(np.linalg.det(Sigma))) * gamma((df + K)/2) / gamma(df/2) \n",
    "    \n",
    "    mu_spread = np.zeros_like(x)\n",
    "    for idx, mu_value in enumerate(mu):\n",
    "        mu_spread[..., idx] = mu_value\n",
    "    diff = x - mu_spread\n",
    "    \n",
    "    matrix_product = np.einsum('...k,kl,...l->...', diff, Sigma_inv, diff)\n",
    "    \n",
    "    return normalization * (1 + matrix_product / df) ** ((-df + K) /2)"
   ]
  },
  {
   "cell_type": "code",
   "execution_count": 95,
   "metadata": {},
   "outputs": [],
   "source": [
    "from scipy.stats import multivariate_normal"
   ]
  },
  {
   "cell_type": "code",
   "execution_count": 111,
   "metadata": {},
   "outputs": [
    {
     "data": {
      "image/png": "[encoded data removed]",
      "text/plain": [
       "<Figure size 432x432 with 1 Axes>"
      ]
     },
     "metadata": {},
     "output_type": "display_data"
    }
   ],
   "source": [
    "a_grid = np.linspace(1, 2, 300)\n",
    "c_grid = np.linspace(0, 4, 300)\n",
    "a, c = np.meshgrid(a_grid, c_grid)\n",
    "\n",
    "xy = np.zeros([len(a), len(c), 2])\n",
    "xy[:, :, 0] = a\n",
    "xy[:, :, 1] = c\n",
    "\n",
    "Zexact = multivariate_t_distribution_pdf(xy, bbar, vbar * Lambda / (N-K), N-K)\n",
    "\n",
    "xy_mean = np.array([abar, cbar])\n",
    "xy_cov = np.array([[stdL_a**2, covL_ac], [covL_ac, stdL_c**2]])\n",
    "ZLaplace = multivariate_normal.pdf(xy, mean=xy_mean, cov=xy_cov)\n",
    "\n",
    "\n",
    "plt.figure(figsize=(6,6))\n",
    "\n",
    "plt.plot(samples['a'], samples['c'], \n",
    "         'b.', ms=3, alpha=0.2,\n",
    "         label='MCMC (STAN)')\n",
    "\n",
    "levels = np.linspace(0, np.max(Zexact), 10)\n",
    "plt.contour(a, c, Zexact, levels, \n",
    "            linewidths=2, linestyles='--', colors='gray', zorder=1)\n",
    "plt.plot([],[], ls='--', lw=2, color='gray', \n",
    "         label='exact (analytic)')\n",
    "\n",
    "levels = np.linspace(0, np.max(ZLaplace), 10)\n",
    "plt.contour(a, c, ZLaplace, levels, \n",
    "            linewidths=2, linestyles='-', colors='red', zorder=3)\n",
    "plt.plot([],[], ls='-', lw=2, color='red', \n",
    "         label='MAP+Laplace (analytic)')\n",
    "\n",
    "plt.xlim([1, 2])\n",
    "plt.ylim([0, 4])\n",
    "plt.xlabel('a')\n",
    "plt.ylabel('c')\n",
    "plt.legend()\n",
    "\n",
    "\n",
    "plt.savefig('P1_ac_joint_posterior.pdf', bbox_inches='tight')\n",
    "\n",
    "plt.show()"
   ]
  },
  {
   "cell_type": "code",
   "execution_count": null,
   "metadata": {},
   "outputs": [],
   "source": []
  }
 ],
 "metadata": {
  "kernelspec": {
   "display_name": "Python 3",
   "language": "python",
   "name": "python3"
  },
  "language_info": {
   "codemirror_mode": {
    "name": "ipython",
    "version": 3
   },
   "file_extension": ".py",
   "mimetype": "text/x-python",
   "name": "python",
   "nbconvert_exporter": "python",
   "pygments_lexer": "ipython3",
   "version": "3.6.5"
  }
 },
 "nbformat": 4,
 "nbformat_minor": 2
}

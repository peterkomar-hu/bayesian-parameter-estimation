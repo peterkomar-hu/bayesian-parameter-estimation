{
 "cells": [
  {
   "cell_type": "code",
   "execution_count": 1,
   "metadata": {},
   "outputs": [],
   "source": [
    "import numpy as np"
   ]
  },
  {
   "cell_type": "code",
   "execution_count": 2,
   "metadata": {},
   "outputs": [],
   "source": [
    "import matplotlib.pyplot as plt\n",
    "%matplotlib inline"
   ]
  },
  {
   "cell_type": "markdown",
   "metadata": {},
   "source": [
    "## Problem 1"
   ]
  },
  {
   "cell_type": "code",
   "execution_count": 4,
   "metadata": {},
   "outputs": [],
   "source": [
    "a = 1.5\n",
    "b = 2.1\n",
    "sigma = 0.5\n",
    "\n",
    "x = np.linspace(1, 7, 7)\n",
    "eps = np.random.normal(loc=0, scale=sigma, size=len(x))\n",
    "y = a*x + b + eps"
   ]
  },
  {
   "cell_type": "code",
   "execution_count": 5,
   "metadata": {},
   "outputs": [
    {
     "data": {
      "text/plain": [
       "[<matplotlib.lines.Line2D at 0x103f85668>]"
      ]
     },
     "execution_count": 5,
     "metadata": {},
     "output_type": "execute_result"
    },
    {
     "data": {
      "image/png": "[encoded data removed]",
      "text/plain": [
       "<Figure size 432x288 with 1 Axes>"
      ]
     },
     "metadata": {},
     "output_type": "display_data"
    }
   ],
   "source": [
    "plt.plot(x,y, 'k.')\n",
    "plt.plot(x, a*x + b)"
   ]
  },
  {
   "cell_type": "code",
   "execution_count": 6,
   "metadata": {},
   "outputs": [
    {
     "data": {
      "text/plain": [
       "array([1., 2., 3., 4., 5., 6., 7.])"
      ]
     },
     "execution_count": 6,
     "metadata": {},
     "output_type": "execute_result"
    }
   ],
   "source": [
    "x"
   ]
  },
  {
   "cell_type": "code",
   "execution_count": 7,
   "metadata": {},
   "outputs": [
    {
     "data": {
      "text/plain": [
       "array([ 3.22972587,  5.37855268,  6.53738188,  7.99598614,  9.85723892,\n",
       "       11.34670543, 11.97941263])"
      ]
     },
     "execution_count": 7,
     "metadata": {},
     "output_type": "execute_result"
    }
   ],
   "source": [
    "y"
   ]
  },
  {
   "cell_type": "markdown",
   "metadata": {},
   "source": [
    "## Problem 3"
   ]
  },
  {
   "cell_type": "code",
   "execution_count": 35,
   "metadata": {},
   "outputs": [
    {
     "name": "stdout",
     "output_type": "stream",
     "text": [
      "[111.74895025 110.60431817 115.28335826 130.78237675 123.92276732\n",
      " 113.89210051  96.34180979]\n"
     ]
    }
   ],
   "source": [
    "mu = 120\n",
    "sigma = 10\n",
    "x = np.random.normal(size=7) * sigma + mu\n",
    "print(x)"
   ]
  },
  {
   "cell_type": "markdown",
   "metadata": {},
   "source": [
    "## Problem 4"
   ]
  },
  {
   "cell_type": "code",
   "execution_count": 27,
   "metadata": {},
   "outputs": [],
   "source": [
    "sigma = 200\n",
    "sigma_group = 500\n",
    "mu_overall = 2500\n",
    "\n",
    "group_mus = mu_overall + np.random.normal(size=3) * sigma_group"
   ]
  },
  {
   "cell_type": "code",
   "execution_count": 28,
   "metadata": {},
   "outputs": [
    {
     "data": {
      "text/plain": [
       "array([2577.00105322, 1692.22742661, 1509.53474104])"
      ]
     },
     "execution_count": 28,
     "metadata": {},
     "output_type": "execute_result"
    }
   ],
   "source": [
    "group_mus"
   ]
  },
  {
   "cell_type": "code",
   "execution_count": 30,
   "metadata": {},
   "outputs": [],
   "source": [
    "plants_in_groups = [4, 6, 3]\n",
    "groups = []\n",
    "for n, mu in zip(plants_in_groups, group_mus):\n",
    "    groups.append(mu + np.random.normal(size=n) * sigma)"
   ]
  },
  {
   "cell_type": "code",
   "execution_count": 31,
   "metadata": {},
   "outputs": [
    {
     "data": {
      "text/plain": [
       "[array([2603.77028549, 2665.292078  , 2251.261876  , 2510.15775133]),\n",
       " array([1558.72110143, 1728.68097843, 1865.72775535, 1413.52330867,\n",
       "        1158.81381311, 1691.86795088]),\n",
       " array([1527.73185301, 1443.51857169, 1041.14137785])]"
      ]
     },
     "execution_count": 31,
     "metadata": {},
     "output_type": "execute_result"
    }
   ],
   "source": [
    "groups"
   ]
  },
  {
   "cell_type": "markdown",
   "metadata": {},
   "source": [
    "## Problem 6"
   ]
  },
  {
   "cell_type": "code",
   "execution_count": 36,
   "metadata": {},
   "outputs": [],
   "source": [
    "from scipy.special import gamma"
   ]
  },
  {
   "cell_type": "code",
   "execution_count": 84,
   "metadata": {},
   "outputs": [],
   "source": [
    "c = 5\n",
    "s = 2\n",
    "x = np.linspace(-100, 100, 1000000)\n",
    "dx = x[1] - x[0]\n",
    "p = 2 / (gamma(1/4) * s) * np.exp(-((x-c)/s)**4)\n",
    "cdf = []\n",
    "tot = 0\n",
    "for idx in range(0, len(p), 1):\n",
    "    tot += p[idx] * dx\n",
    "    cdf.append(tot)"
   ]
  },
  {
   "cell_type": "code",
   "execution_count": 92,
   "metadata": {},
   "outputs": [
    {
     "data": {
      "text/plain": [
       "1.812804954110954"
      ]
     },
     "execution_count": 92,
     "metadata": {},
     "output_type": "execute_result"
    }
   ],
   "source": [
    "(gamma(1/4)) / 2"
   ]
  },
  {
   "cell_type": "code",
   "execution_count": 87,
   "metadata": {},
   "outputs": [
    {
     "data": {
      "text/plain": [
       "(2, 8)"
      ]
     },
     "execution_count": 87,
     "metadata": {},
     "output_type": "execute_result"
    },
    {
     "data": {
      "image/png": "[encoded data removed]",
      "text/plain": [
       "<Figure size 432x288 with 1 Axes>"
      ]
     },
     "metadata": {},
     "output_type": "display_data"
    }
   ],
   "source": [
    "plt.plot(x, cdf, 'b-')\n",
    "plt.xlim([2, 8])"
   ]
  },
  {
   "cell_type": "code",
   "execution_count": 88,
   "metadata": {},
   "outputs": [
    {
     "data": {
      "text/plain": [
       "(2, 8)"
      ]
     },
     "execution_count": 88,
     "metadata": {},
     "output_type": "execute_result"
    },
    {
     "data": {
      "image/png": "[encoded data removed]",
      "text/plain": [
       "<Figure size 432x288 with 1 Axes>"
      ]
     },
     "metadata": {},
     "output_type": "display_data"
    }
   ],
   "source": [
    "plt.plot(x, p, 'b-')\n",
    "plt.xlim([2, 8])"
   ]
  },
  {
   "cell_type": "code",
   "execution_count": 89,
   "metadata": {},
   "outputs": [],
   "source": [
    "samples = []\n",
    "for i in range(10):\n",
    "    c = np.random.random()\n",
    "    j = 0\n",
    "    while cdf[j] < c:\n",
    "        j += 1\n",
    "    samples.append(x[j])"
   ]
  },
  {
   "cell_type": "code",
   "execution_count": 90,
   "metadata": {},
   "outputs": [
    {
     "data": {
      "text/plain": [
       "[4.346904346904353,\n",
       " 4.909504909504918,\n",
       " 6.203506203506208,\n",
       " 3.56510356510357,\n",
       " 4.4329044329044365,\n",
       " 3.9771039771039796,\n",
       " 3.8345038345038347,\n",
       " 4.754904754904757,\n",
       " 5.540505540505549,\n",
       " 6.388906388906392]"
      ]
     },
     "execution_count": 90,
     "metadata": {},
     "output_type": "execute_result"
    }
   ],
   "source": [
    "samples"
   ]
  },
  {
   "cell_type": "markdown",
   "metadata": {},
   "source": [
    "## Problem 7"
   ]
  },
  {
   "cell_type": "code",
   "execution_count": 22,
   "metadata": {},
   "outputs": [
    {
     "data": {
      "text/plain": [
       "array([8.15458191, 6.27163055, 3.58291333, 7.0957596 , 6.46921607])"
      ]
     },
     "execution_count": 22,
     "metadata": {},
     "output_type": "execute_result"
    }
   ],
   "source": [
    "high = 13\n",
    "low =2\n",
    "\n",
    "(high - low) * np.random.random(size=5) + low"
   ]
  },
  {
   "cell_type": "markdown",
   "metadata": {},
   "source": [
    "## Problem 8"
   ]
  },
  {
   "cell_type": "code",
   "execution_count": 93,
   "metadata": {},
   "outputs": [],
   "source": [
    "from scipy.stats import norm, cauchy"
   ]
  },
  {
   "cell_type": "code",
   "execution_count": 129,
   "metadata": {},
   "outputs": [],
   "source": [
    "pi = 0.3\n",
    "c = 0\n",
    "sigma = 1\n",
    "s = 5\n",
    "samples = []\n",
    "labels = []\n",
    "for _ in range(12):\n",
    "    if np.random.random() < pi:\n",
    "        label = 'cauchy'\n",
    "        x = cauchy.rvs(loc=c, scale=s)\n",
    "    else:\n",
    "        label = 'gauss'\n",
    "        x = norm.rvs(loc=c, scale=sigma)\n",
    "    labels.append(label)\n",
    "    samples.append(x)"
   ]
  },
  {
   "cell_type": "code",
   "execution_count": 130,
   "metadata": {},
   "outputs": [
    {
     "data": {
      "text/plain": [
       "[('gauss', -1.3218434903560539),\n",
       " ('cauchy', -8.173690215411087),\n",
       " ('cauchy', -0.21320773043048166),\n",
       " ('gauss', -0.7277216145366113),\n",
       " ('cauchy', 5.784358761004032),\n",
       " ('gauss', 1.7494602058257083),\n",
       " ('gauss', -0.2886950427991223),\n",
       " ('gauss', -0.3361810242126585),\n",
       " ('gauss', -0.5207289506698818),\n",
       " ('gauss', 1.2867805788363982),\n",
       " ('gauss', -0.5967120310574633),\n",
       " ('gauss', 0.28439040249139724)]"
      ]
     },
     "execution_count": 130,
     "metadata": {},
     "output_type": "execute_result"
    }
   ],
   "source": [
    "list(zip(labels, samples))"
   ]
  },
  {
   "cell_type": "markdown",
   "metadata": {},
   "source": [
    "## Problem 10"
   ]
  },
  {
   "cell_type": "code",
   "execution_count": 135,
   "metadata": {},
   "outputs": [],
   "source": [
    "from scipy.stats import expon"
   ]
  },
  {
   "cell_type": "code",
   "execution_count": 286,
   "metadata": {},
   "outputs": [],
   "source": [
    "floor = 20\n",
    "mu = 50\n",
    "sigma = 20\n",
    "x_plus = 5\n",
    "\n",
    "labels = []\n",
    "samples = []\n",
    "for _ in range(4000):\n",
    "    x_true = norm.rvs(loc=mu, scale=sigma)\n",
    "    x_round = int(np.round(x_true))\n",
    "    if x_true < floor:\n",
    "        label = 'exp'\n",
    "        x = floor + expon.rvs(scale=x_plus)\n",
    "    else:\n",
    "        label = 'norm'\n",
    "        x = x_true\n",
    "    labels.append(label)\n",
    "    samples.append(x)\n",
    "    \n",
    "labels = np.array(labels)\n",
    "samples = np.array(samples)"
   ]
  },
  {
   "cell_type": "code",
   "execution_count": 318,
   "metadata": {},
   "outputs": [
    {
     "data": {
      "image/png": "[encoded data removed]",
      "text/plain": [
       "<Figure size 720x360 with 1 Axes>"
      ]
     },
     "metadata": {},
     "output_type": "display_data"
    }
   ],
   "source": [
    "fig = plt.figure(figsize=(10,5))\n",
    "h = plt.hist(samples, bins=range(0, 105, 5), edgecolor='k', facecolor='none')\n",
    "plt.xlim([0, 100])\n",
    "plt.xlabel('Test score')\n",
    "for b, n in zip(h[1][:-1], h[0]):\n",
    "    plt.text(b+2.5, n+10, str(int(n)), ha = 'center', fontsize=12)\n",
    "plt.gca().set_xticks(range(0, 105, 5))\n",
    "plt.ylim([0, 500])\n",
    "plt.show()\n",
    "fig.savefig('./test-scores.pdf', bbox_inches='tight')"
   ]
  },
  {
   "cell_type": "code",
   "execution_count": 288,
   "metadata": {},
   "outputs": [
    {
     "data": {
      "image/png": "[encoded data removed]",
      "text/plain": [
       "<Figure size 432x288 with 1 Axes>"
      ]
     },
     "metadata": {},
     "output_type": "display_data"
    }
   ],
   "source": [
    "plt.hist([samples[labels=='norm'],\n",
    "         samples[labels=='exp']], \n",
    "         bins=range(0, 105, 5), stacked=True)\n",
    "\n",
    "plt.show()"
   ]
  },
  {
   "cell_type": "code",
   "execution_count": 284,
   "metadata": {},
   "outputs": [
    {
     "data": {
      "text/plain": [
       "(array([  0.,   0.,   0.,  13., 310., 243., 293., 357., 360., 371., 408.,\n",
       "        389., 315., 278., 214., 160., 101.,  72.,  50.,  34.]),\n",
       " array([  0,   5,  10,  15,  20,  25,  30,  35,  40,  45,  50,  55,  60,\n",
       "         65,  70,  75,  80,  85,  90,  95, 100]),\n",
       " <a list of 20 Patch objects>)"
      ]
     },
     "execution_count": 284,
     "metadata": {},
     "output_type": "execute_result"
    }
   ],
   "source": [
    "h"
   ]
  },
  {
   "cell_type": "code",
   "execution_count": 265,
   "metadata": {},
   "outputs": [
    {
     "data": {
      "text/plain": [
       "3955.0"
      ]
     },
     "execution_count": 265,
     "metadata": {},
     "output_type": "execute_result"
    }
   ],
   "source": [
    "sum(h[0])"
   ]
  },
  {
   "cell_type": "code",
   "execution_count": 266,
   "metadata": {},
   "outputs": [
    {
     "data": {
      "text/plain": [
       "1020"
      ]
     },
     "execution_count": 266,
     "metadata": {},
     "output_type": "execute_result"
    }
   ],
   "source": [
    "np.sum(h[1])"
   ]
  },
  {
   "cell_type": "code",
   "execution_count": 278,
   "metadata": {},
   "outputs": [],
   "source": [
    "records = []\n",
    "for idx in range(len(h[0])):\n",
    "    record = str(h[1][idx]) + '-' + str(h[1][idx+1]) + ':&& ' + str(int(h[0][idx])) + r'\\\\'\n",
    "    records.append(record)"
   ]
  },
  {
   "cell_type": "code",
   "execution_count": 279,
   "metadata": {},
   "outputs": [
    {
     "name": "stdout",
     "output_type": "stream",
     "text": [
      "20-25:&& 310\\\\\n",
      "25-30:&& 243\\\\\n",
      "30-35:&& 293\\\\\n",
      "35-40:&& 357\\\\\n",
      "40-45:&& 360\\\\\n",
      "45-50:&& 371\\\\\n",
      "50-55:&& 408\\\\\n",
      "55-60:&& 389\\\\\n",
      "60-65:&& 315\\\\\n",
      "65-70:&& 278\\\\\n",
      "70-75:&& 214\\\\\n",
      "75-80:&& 160\\\\\n",
      "80-85:&& 101\\\\\n",
      "85-90:&& 72\\\\\n",
      "90-95:&& 50\\\\\n",
      "95-100:&& 34\\\\\n"
     ]
    }
   ],
   "source": [
    "print('\\n'.join(records))"
   ]
  },
  {
   "cell_type": "code",
   "execution_count": null,
   "metadata": {},
   "outputs": [],
   "source": []
  }
 ],
 "metadata": {
  "kernelspec": {
   "display_name": "Python 3",
   "language": "python",
   "name": "python3"
  },
  "language_info": {
   "codemirror_mode": {
    "name": "ipython",
    "version": 3
   },
   "file_extension": ".py",
   "mimetype": "text/x-python",
   "name": "python",
   "nbconvert_exporter": "python",
   "pygments_lexer": "ipython3",
   "version": "3.6.5"
  }
 },
 "nbformat": 4,
 "nbformat_minor": 2
}
